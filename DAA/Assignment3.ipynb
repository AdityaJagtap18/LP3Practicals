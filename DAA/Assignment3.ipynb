{
 "cells": [
  {
   "cell_type": "code",
   "execution_count": 1,
   "id": "eec9da2d-a22d-4796-aa19-7fa21d620c3e",
   "metadata": {},
   "outputs": [
    {
     "name": "stdout",
     "output_type": "stream",
     "text": [
      "Maximum value in Knapsack = 240.0\n"
     ]
    }
   ],
   "source": [
    "def fractional_knapsack(W, values, weights):\n",
    "    # Create a list of items as (value, weight, ratio) tuples\n",
    "    items = []\n",
    "    for i in range(len(values)):\n",
    "        ratio = values[i] / weights[i]\n",
    "        items.append((values[i], weights[i], ratio))\n",
    "    \n",
    "    # Sort items based on the ratio in descending order\n",
    "    for i in range(len(items)):\n",
    "        for j in range(i + 1, len(items)):\n",
    "            if items[i][2] < items[j][2]:  # Compare ratios\n",
    "                items[i], items[j] = items[j], items[i]  # Swap if needed\n",
    "\n",
    "    final_value = 0.0  # Variable to store the total value in the knapsack\n",
    "\n",
    "    # Loop through all items\n",
    "    for value, weight, ratio in items:\n",
    "        # If adding the item won't exceed capacity, add it completely\n",
    "        if weight <= W:\n",
    "            W -= weight\n",
    "            final_value += value\n",
    "        # If we can't add the whole item, add the fractional part of it\n",
    "        else:\n",
    "            final_value += value * (W / weight)\n",
    "            break\n",
    "\n",
    "    return final_value  # Return the maximum value of knapsack\n",
    "\n",
    "# Example usage\n",
    "W = 50\n",
    "values = [60, 100, 120]\n",
    "weights = [10, 20, 30]\n",
    "\n",
    "# Function call\n",
    "max_val = fractional_knapsack(W, values, weights)\n",
    "print(f\"Maximum value in Knapsack = {max_val}\")\n"
   ]
  },
  {
   "cell_type": "code",
   "execution_count": null,
   "id": "03e2d114-ed6e-4dcf-b790-3a841e058c0c",
   "metadata": {},
   "outputs": [],
   "source": []
  }
 ],
 "metadata": {
  "kernelspec": {
   "display_name": "Python 3 (ipykernel)",
   "language": "python",
   "name": "python3"
  },
  "language_info": {
   "codemirror_mode": {
    "name": "ipython",
    "version": 3
   },
   "file_extension": ".py",
   "mimetype": "text/x-python",
   "name": "python",
   "nbconvert_exporter": "python",
   "pygments_lexer": "ipython3",
   "version": "3.12.4"
  }
 },
 "nbformat": 4,
 "nbformat_minor": 5
}
