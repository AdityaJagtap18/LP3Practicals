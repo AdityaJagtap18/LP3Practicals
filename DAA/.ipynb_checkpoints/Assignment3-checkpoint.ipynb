{
 "cells": [
  {
   "cell_type": "code",
   "execution_count": 1,
   "id": "eec9da2d-a22d-4796-aa19-7fa21d620c3e",
   "metadata": {},
   "outputs": [
    {
     "name": "stdout",
     "output_type": "stream",
     "text": [
      "Maximum value in Knapsack = 240.0\n"
     ]
    }
   ],
   "source": [
    "class Item:\n",
    "    def __init__(self, value, weight):  # Corrected __init__ method\n",
    "        self.value = value\n",
    "        self.weight = weight\n",
    "\n",
    "def fractionalKnapsack(W, arr):\n",
    "    # Sorting Items based on value-to-weight ratio\n",
    "    arr.sort(key=lambda x: (x.value / x.weight), reverse=True)\n",
    "\n",
    "    finalvalue = 0.0  # Variable to store the total value in the knapsack\n",
    "\n",
    "    # Loop through all items\n",
    "    for item in arr:\n",
    "        # If adding the item won't exceed capacity, add it completely\n",
    "        if item.weight <= W:\n",
    "            W -= item.weight\n",
    "            finalvalue += item.value\n",
    "        # If we can't add the whole item, add the fractional part of it\n",
    "        else:\n",
    "            finalvalue += item.value * (W / item.weight)\n",
    "            break\n",
    "\n",
    "    return finalvalue  # Return the maximum value of knapsack\n",
    "\n",
    "# Driver Code\n",
    "if __name__ == \"__main__\":  # Corrected condition for main block\n",
    "    W = 50\n",
    "    arr = [Item(60, 10), Item(100, 20), Item(120, 30)]\n",
    "    \n",
    "    # Function call\n",
    "    max_val = fractionalKnapsack(W, arr)\n",
    "    print(f\"Maximum value in Knapsack = {max_val}\")\n"
   ]
  },
  {
   "cell_type": "code",
   "execution_count": null,
   "id": "03e2d114-ed6e-4dcf-b790-3a841e058c0c",
   "metadata": {},
   "outputs": [],
   "source": []
  }
 ],
 "metadata": {
  "kernelspec": {
   "display_name": "Python 3 (ipykernel)",
   "language": "python",
   "name": "python3"
  },
  "language_info": {
   "codemirror_mode": {
    "name": "ipython",
    "version": 3
   },
   "file_extension": ".py",
   "mimetype": "text/x-python",
   "name": "python",
   "nbconvert_exporter": "python",
   "pygments_lexer": "ipython3",
   "version": "3.12.4"
  }
 },
 "nbformat": 4,
 "nbformat_minor": 5
}
