{
 "cells": [
  {
   "cell_type": "code",
   "execution_count": 1,
   "id": "20262833-a1f8-43d7-a88f-a24a7aac7885",
   "metadata": {},
   "outputs": [
    {
     "name": "stdout",
     "output_type": "stream",
     "text": [
      "220\n"
     ]
    }
   ],
   "source": [
    "# A Dynamic Programming based Python Program for 0-1 Knapsack problem\n",
    "# Returns the maximum value that can be put in a knapsack of capacity W\n",
    "def knapSack(W, wt, val, n):\n",
    "    dp = [0 for i in range(W+1)]  # Creating the dp array\n",
    "    \n",
    "    # Iterating over each item\n",
    "    for i in range(1, n+1):\n",
    "        # Iterating through all capacities starting from the maximum\n",
    "        for w in range(W, 0, -1):\n",
    "            # If the current item's weight is less than or equal to the current capacity\n",
    "            if wt[i-1] <= w:\n",
    "                # Update dp[w] to the maximum of either taking the current item or not\n",
    "                dp[w] = max(dp[w], dp[w - wt[i-1]] + val[i-1])\n",
    "    \n",
    "    return dp[W]  # Returning the maximum value for the full knapsack capacity\n",
    "\n",
    "# Driver code\n",
    "val = [60, 100, 120]  # Values of items\n",
    "wt = [10, 20, 30]     # Weights of items\n",
    "W = 50                # Capacity of knapsack\n",
    "n = len(val)          # Number of items\n",
    "\n",
    "# Function call to find the maximum value that can be carried\n",
    "print(knapSack(W, wt, val, n))\n"
   ]
  },
  {
   "cell_type": "code",
   "execution_count": null,
   "id": "2d2ef71a-7f66-4e78-89bd-3c7ba86ad5c4",
   "metadata": {},
   "outputs": [],
   "source": []
  }
 ],
 "metadata": {
  "kernelspec": {
   "display_name": "Python 3 (ipykernel)",
   "language": "python",
   "name": "python3"
  },
  "language_info": {
   "codemirror_mode": {
    "name": "ipython",
    "version": 3
   },
   "file_extension": ".py",
   "mimetype": "text/x-python",
   "name": "python",
   "nbconvert_exporter": "python",
   "pygments_lexer": "ipython3",
   "version": "3.12.4"
  }
 },
 "nbformat": 4,
 "nbformat_minor": 5
}
