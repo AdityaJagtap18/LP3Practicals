{
 "cells": [
  {
   "cell_type": "code",
   "execution_count": 1,
   "id": "0025d5d1-cea0-45c0-ae10-d5d4165fc2fd",
   "metadata": {},
   "outputs": [
    {
     "name": "stdout",
     "output_type": "stream",
     "text": [
      "Word: lossless\n",
      "Huffman code: 10110001011100\n",
      "Conversion table: {'s': '0', 'l': '10', 'o': '110', 'e': '111'}\n"
     ]
    }
   ],
   "source": [
    "class Node:\n",
    "    def __init__(self, char=None, freq=0):\n",
    "        self.char = char\n",
    "        self.freq = freq\n",
    "        self.left = None\n",
    "        self.right = None\n",
    "\n",
    "nodes = []\n",
    "\n",
    "def calculate_frequencies(word):\n",
    "    frequencies = {}\n",
    "    for char in word:\n",
    "        if char not in frequencies:\n",
    "            freq = word.count(char)\n",
    "            frequencies[char] = freq\n",
    "            nodes.append(Node(char, freq))\n",
    "\n",
    "def build_huffman_tree():\n",
    "    while len(nodes) > 1:\n",
    "        nodes.sort(key=lambda x: x.freq)\n",
    "        left = nodes.pop(0)\n",
    "        right = nodes.pop(0)\n",
    "        \n",
    "        merged = Node(freq=left.freq + right.freq)\n",
    "        merged.left = left\n",
    "        merged.right = right\n",
    "        \n",
    "        nodes.append(merged)\n",
    "\n",
    "    return nodes[0]\n",
    "\n",
    "def generate_huffman_codes(node, current_code, codes):\n",
    "    if node is None:\n",
    "        return\n",
    "\n",
    "    if node.char is not None:\n",
    "        codes[node.char] = current_code\n",
    "\n",
    "    generate_huffman_codes(node.left, current_code + '0', codes)\n",
    "    generate_huffman_codes(node.right, current_code + '1', codes)\n",
    "\n",
    "def huffman_encoding(word):\n",
    "    global nodes\n",
    "    nodes = []\n",
    "    calculate_frequencies(word)\n",
    "    root = build_huffman_tree()\n",
    "    codes = {}\n",
    "    generate_huffman_codes(root, '', codes)\n",
    "    return codes\n",
    "\n",
    "word = \"lossless\"\n",
    "codes = huffman_encoding(word)\n",
    "encoded_word = ''.join(codes[char] for char in word)\n",
    "\n",
    "print(\"Word:\", word)\n",
    "print(\"Huffman code:\", encoded_word)\n",
    "print(\"Conversion table:\", codes)"
   ]
  },
  {
   "cell_type": "code",
   "execution_count": null,
   "id": "d55dfe83-ba90-467d-823a-1e0cea3d895b",
   "metadata": {},
   "outputs": [],
   "source": []
  }
 ],
 "metadata": {
  "kernelspec": {
   "display_name": "Python 3 (ipykernel)",
   "language": "python",
   "name": "python3"
  },
  "language_info": {
   "codemirror_mode": {
    "name": "ipython",
    "version": 3
   },
   "file_extension": ".py",
   "mimetype": "text/x-python",
   "name": "python",
   "nbconvert_exporter": "python",
   "pygments_lexer": "ipython3",
   "version": "3.12.4"
  }
 },
 "nbformat": 4,
 "nbformat_minor": 5
}
