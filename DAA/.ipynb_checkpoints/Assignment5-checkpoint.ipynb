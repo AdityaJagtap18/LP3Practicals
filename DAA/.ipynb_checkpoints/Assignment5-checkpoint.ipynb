{
 "cells": [
  {
   "cell_type": "code",
   "execution_count": 3,
   "id": "0b306336-ae68-41a4-a4a6-8a1f7291e2ee",
   "metadata": {},
   "outputs": [
    {
     "name": "stdout",
     "output_type": "stream",
     "text": [
      "0 0 1 0 \n",
      "1 0 0 0 \n",
      "0 0 0 1 \n",
      "0 1 0 0 \n",
      "\n"
     ]
    },
    {
     "data": {
      "text/plain": [
       "True"
      ]
     },
     "execution_count": 3,
     "metadata": {},
     "output_type": "execute_result"
    }
   ],
   "source": [
    "# Python3 program to solve N Queen Problem using backtracking\n",
    "\n",
    "global N\n",
    "N = 4\n",
    "\n",
    "# Function to print the solution\n",
    "def printSolution(board):\n",
    "    for i in range(N):\n",
    "        for j in range(N):\n",
    "            print(board[i][j], end=\" \")\n",
    "        print()\n",
    "    print()  # To separate the solution visually\n",
    "\n",
    "# A utility function to check if a queen can be placed on board[row][col]\n",
    "# We only need to check the left side for attacking queens\n",
    "def isSafe(board, row, col):\n",
    "    # Check this row on the left side\n",
    "    for i in range(col):\n",
    "        if board[row][i] == 1:\n",
    "            return False\n",
    "\n",
    "    # Check the upper diagonal on the left side\n",
    "    for i, j in zip(range(row, -1, -1), range(col, -1, -1)):\n",
    "        if board[i][j] == 1:\n",
    "            return False\n",
    "\n",
    "    # Check the lower diagonal on the left side\n",
    "    for i, j in zip(range(row, N, 1), range(col, -1, -1)):\n",
    "        if board[i][j] == 1:\n",
    "            return False\n",
    "\n",
    "    return True\n",
    "\n",
    "# A recursive utility function to solve the N-Queen problem\n",
    "def solveNQUtil(board, col):\n",
    "    # Base case: If all queens are placed, return True\n",
    "    if col >= N:\n",
    "        return True\n",
    "\n",
    "    # Consider this column and try placing the queen in all rows one by one\n",
    "    for i in range(N):\n",
    "        if isSafe(board, i, col):\n",
    "            # Place the queen\n",
    "            board[i][col] = 1\n",
    "\n",
    "            # Recur to place the rest of the queens\n",
    "            if solveNQUtil(board, col + 1):\n",
    "                return True\n",
    "\n",
    "            # If placing the queen in board[i][col] doesn't lead to a solution,\n",
    "            # remove the queen (backtrack)\n",
    "            board[i][col] = 0\n",
    "\n",
    "    # If the queen cannot be placed in any row in this column, return False\n",
    "    return False\n",
    "\n",
    "# This function solves the N-Queen problem using backtracking.\n",
    "# It prints one feasible solution.\n",
    "def solveNQ():\n",
    "    board = [[0, 0, 0, 0],\n",
    "             [0, 0, 0, 0],\n",
    "             [0, 0, 0, 0],\n",
    "             [0, 0, 0, 0]]\n",
    "\n",
    "    if not solveNQUtil(board, 0):\n",
    "        print(\"Solution does not exist\")\n",
    "        return False\n",
    "\n",
    "    printSolution(board)\n",
    "    return True\n",
    "\n",
    "# Driver code to test the solution\n",
    "solveNQ()\n",
    "\n",
    "\n"
   ]
  },
  {
   "cell_type": "code",
   "execution_count": null,
   "id": "f1fb7223-04c1-4459-9ddd-b0df07443f6f",
   "metadata": {},
   "outputs": [],
   "source": []
  }
 ],
 "metadata": {
  "kernelspec": {
   "display_name": "Python 3 (ipykernel)",
   "language": "python",
   "name": "python3"
  },
  "language_info": {
   "codemirror_mode": {
    "name": "ipython",
    "version": 3
   },
   "file_extension": ".py",
   "mimetype": "text/x-python",
   "name": "python",
   "nbconvert_exporter": "python",
   "pygments_lexer": "ipython3",
   "version": "3.12.4"
  }
 },
 "nbformat": 4,
 "nbformat_minor": 5
}
